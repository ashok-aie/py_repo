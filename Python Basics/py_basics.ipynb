{
 "cells": [
  {
   "cell_type": "code",
   "execution_count": 2,
   "metadata": {},
   "outputs": [
    {
     "name": "stdout",
     "output_type": "stream",
     "text": [
      "Hello!\n"
     ]
    }
   ],
   "source": [
    "print('Hello!')"
   ]
  },
  {
   "cell_type": "code",
   "execution_count": 3,
   "metadata": {},
   "outputs": [],
   "source": [
    "msg = 'Earth'\n",
    "audience = 'Rotates around Sun'"
   ]
  },
  {
   "cell_type": "code",
   "execution_count": 4,
   "metadata": {},
   "outputs": [
    {
     "name": "stdout",
     "output_type": "stream",
     "text": [
      "EarthRotates around Sun\n",
      "Earth Rotates around Sun\n"
     ]
    }
   ],
   "source": [
    "print(msg+audience) \n",
    "print(msg + ' ' + audience) "
   ]
  },
  {
   "cell_type": "code",
   "execution_count": 5,
   "metadata": {},
   "outputs": [
    {
     "name": "stdout",
     "output_type": "stream",
     "text": [
      "Earth     Rotates around Sun\n",
      "Rotates around Sun Earth\n",
      "Earth Rotates around Sun\n",
      "Earth Rotates around Sun\n"
     ]
    }
   ],
   "source": [
    "# standard way is \n",
    "print('{}     {}'.format(msg,audience))\n",
    "print('{} {}'.format(audience, msg))\n",
    "print('{m} {a}'.format(a=audience, m=msg))\n",
    "print(f'{msg} {audience}')"
   ]
  },
  {
   "cell_type": "code",
   "execution_count": 6,
   "metadata": {},
   "outputs": [
    {
     "name": "stdout",
     "output_type": "stream",
     "text": [
      "Addition of 10 and 20 is 30\n",
      "Substraction of 10 from 20 is -10\n",
      "Multiplication of 10 and 20 is 200\n",
      "Power of 10 and 3 is 1000\n",
      "Division of 20 and 3 is 6.666666666666667\n",
      "Floor Division of 20 and 3 is 6\n",
      "Rounding of a decimal result is 7\n",
      "Remainder is 2\n"
     ]
    }
   ],
   "source": [
    "# arithmentic operator\n",
    "x, y, z = 10, 20, 3\n",
    "print(f'Addition of {x} and {y} is {x+y}')\n",
    "print(f'Substraction of {x} from {y} is {x-y}')\n",
    "print(f'Multiplication of {x} and {y} is {x*y}')\n",
    "print(f'Power of {x} and {z} is {x ** z}')\n",
    "print(f'Division of {y} and {z} is {y/z}')\n",
    "print(f'Floor Division of {y} and {z} is {y//z}')\n",
    "print(f'Rounding of a decimal result is {round(y/z)}')\n",
    "print(f'Remainder is {y%z}')"
   ]
  },
  {
   "cell_type": "code",
   "execution_count": 7,
   "metadata": {},
   "outputs": [
    {
     "name": "stdout",
     "output_type": "stream",
     "text": [
      "15\n"
     ]
    }
   ],
   "source": [
    "# Combining assignment operator and arithmentic operator\n",
    "val = 10\n",
    "val += 5\n",
    "print(val)"
   ]
  },
  {
   "cell_type": "code",
   "execution_count": 8,
   "metadata": {},
   "outputs": [],
   "source": [
    "#Comparison operator results boolean values True or False\n",
    "# ==, !=, <, >, <=, >=, and or"
   ]
  }
 ],
 "metadata": {
  "kernelspec": {
   "display_name": "Python 3",
   "language": "python",
   "name": "python3"
  },
  "language_info": {
   "codemirror_mode": {
    "name": "ipython",
    "version": 3
   },
   "file_extension": ".py",
   "mimetype": "text/x-python",
   "name": "python",
   "nbconvert_exporter": "python",
   "pygments_lexer": "ipython3",
   "version": "3.13.5"
  }
 },
 "nbformat": 4,
 "nbformat_minor": 2
}
